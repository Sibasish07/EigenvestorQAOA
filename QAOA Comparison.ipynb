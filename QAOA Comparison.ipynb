{
 "cells": [
  {
   "cell_type": "code",
   "execution_count": 1,
   "id": "625f2656",
   "metadata": {},
   "outputs": [],
   "source": [
    "import main\n",
    "import cirq\n",
    "import math\n",
    "from cirq.contrib.svg import SVGCircuit\n",
    "import sympy\n",
    "import numpy as np\n",
    "import matplotlib.pyplot as plt"
   ]
  },
  {
   "cell_type": "code",
   "execution_count": 12,
   "id": "ebb541ea",
   "metadata": {},
   "outputs": [],
   "source": [
    "num_points=5 #number of values of beta and gamma (QAOA circuit parameters) between 0 and 2pi that we consider\n",
    "num_sim=5 # number of times the QAOA is run for each combination of parameters."
   ]
  },
  {
   "cell_type": "code",
   "execution_count": 13,
   "id": "5f54c5ea",
   "metadata": {},
   "outputs": [
    {
     "data": {
      "text/plain": [
       "([1, 0, 1, 0], 0.00018825000000000008)"
      ]
     },
     "execution_count": 13,
     "metadata": {},
     "output_type": "execute_result"
    }
   ],
   "source": [
    "#Brute force search: optimal solution is found by iterating over all possible combinations\n",
    "main.brute_force_search()"
   ]
  },
  {
   "cell_type": "code",
   "execution_count": 14,
   "id": "7a11b5e3",
   "metadata": {},
   "outputs": [
    {
     "data": {
      "text/plain": [
       "([1, 0, 1, 0], 0.00018825000000000008)"
      ]
     },
     "execution_count": 14,
     "metadata": {},
     "output_type": "execute_result"
    }
   ],
   "source": [
    "# Grid search with QAOA using soft constraints and circuit depth=1\n",
    "main.grid_search(num_points,num_sim)"
   ]
  },
  {
   "cell_type": "code",
   "execution_count": 15,
   "id": "9b6f2f94",
   "metadata": {},
   "outputs": [
    {
     "data": {
      "text/plain": [
       "([1, 0, 1, 0], 0.00018825000000000008)"
      ]
     },
     "execution_count": 15,
     "metadata": {},
     "output_type": "execute_result"
    }
   ],
   "source": [
    "# Grid search with QAOA using soft constraints and circuit depth=2\n",
    "main.grid_search_2(num_points,num_sim)"
   ]
  },
  {
   "cell_type": "code",
   "execution_count": 16,
   "id": "0aac6db0",
   "metadata": {},
   "outputs": [
    {
     "data": {
      "text/plain": [
       "([1, 1, 0, 0], 0.00021057000000000004)"
      ]
     },
     "execution_count": 16,
     "metadata": {},
     "output_type": "execute_result"
    }
   ],
   "source": [
    "# Grid search with QAOA using hard constraints and circuit depth=1\n",
    "main.grid_search_hard(num_points,num_sim)"
   ]
  },
  {
   "cell_type": "code",
   "execution_count": 17,
   "id": "0a417029",
   "metadata": {},
   "outputs": [
    {
     "data": {
      "text/plain": [
       "([1, 1, 0, 0], 0.00021057000000000004)"
      ]
     },
     "execution_count": 17,
     "metadata": {},
     "output_type": "execute_result"
    }
   ],
   "source": [
    "# Grid search with QAOA using hard constraints and circuit depth=2\n",
    "main.grid_search_2_hard(num_points,num_sim)"
   ]
  },
  {
   "cell_type": "code",
   "execution_count": null,
   "id": "293c6014",
   "metadata": {},
   "outputs": [],
   "source": []
  }
 ],
 "metadata": {
  "kernelspec": {
   "display_name": "Python 3",
   "language": "python",
   "name": "python3"
  },
  "language_info": {
   "codemirror_mode": {
    "name": "ipython",
    "version": 3
   },
   "file_extension": ".py",
   "mimetype": "text/x-python",
   "name": "python",
   "nbconvert_exporter": "python",
   "pygments_lexer": "ipython3",
   "version": "3.9.1"
  }
 },
 "nbformat": 4,
 "nbformat_minor": 5
}
