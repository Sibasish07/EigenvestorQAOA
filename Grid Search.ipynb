{
 "cells": [
  {
   "cell_type": "code",
   "execution_count": 1,
   "id": "0eba8f9e",
   "metadata": {},
   "outputs": [],
   "source": [
    "import main\n",
    "import cirq\n",
    "import math\n",
    "from cirq.contrib.svg import SVGCircuit\n",
    "import sympy\n",
    "import numpy as np\n",
    "%matplotlib inline\n",
    "import matplotlib.pyplot as plt\n",
    "from tqdm import tqdm"
   ]
  },
  {
   "cell_type": "code",
   "execution_count": 5,
   "id": "75a7c12a",
   "metadata": {},
   "outputs": [],
   "source": [
    "N=4 #Number of stocks"
   ]
  },
  {
   "cell_type": "code",
   "execution_count": 11,
   "id": "90678dbb",
   "metadata": {},
   "outputs": [
    {
     "name": "stderr",
     "output_type": "stream",
     "text": [
      "100%|██████████████████████████████████████████████████████████████████████████████████| 16/16 [09:21<00:00, 35.07s/it]\n"
     ]
    },
    {
     "data": {
      "text/plain": [
       "Text(0.5, 0, 'γ')"
      ]
     },
     "execution_count": 11,
     "metadata": {},
     "output_type": "execute_result"
    },
    {
     "data": {
      "image/png": "[encoded data removed]",
      "text/plain": [
       "<Figure size 432x288 with 2 Axes>"
      ]
     },
     "metadata": {
      "needs_background": "light"
     },
     "output_type": "display_data"
    }
   ],
   "source": [
    "numpoints=16; # Number of values for beta and gamma\n",
    "numsim=100;    # Number of shots per each value (increase for higher accuracy)\n",
    "simulator = cirq.Simulator()\n",
    "Cost=np.zeros([numpoints,numpoints])\n",
    "betas= np.linspace(0, 2 * np.pi, numpoints)\n",
    "gammas= np.linspace(0, 2 * np.pi, numpoints)\n",
    "\n",
    "for jj in tqdm(range(numpoints)):\n",
    "    for kk in range(numpoints):\n",
    "        circuit=main.circuit_builder(betas[jj],gammas[kk])\n",
    "        for i in range(numsim):\n",
    "            result = simulator.run(circuit)\n",
    "            list=[]\n",
    "            z=[]\n",
    "            for value in result.measurements.values():\n",
    "                list.append(value[0,0])\n",
    "            for i in range(N):\n",
    "                z.append((list[2*i]-list[2*i+1]))\n",
    "            Cost[jj,kk]+=main.cost_function(z)\n",
    "plt.imshow(Cost/np.amax(Cost),\"plasma\")\n",
    "plt.axis(\"off\")\n",
    "plt.colorbar()\n",
    "plt.xlabel(\"γ\")"
   ]
  },
  {
   "cell_type": "code",
   "execution_count": null,
   "id": "13f4b1f9",
   "metadata": {},
   "outputs": [],
   "source": []
  }
 ],
 "metadata": {
  "kernelspec": {
   "display_name": "Python 3",
   "language": "python",
   "name": "python3"
  },
  "language_info": {
   "codemirror_mode": {
    "name": "ipython",
    "version": 3
   },
   "file_extension": ".py",
   "mimetype": "text/x-python",
   "name": "python",
   "nbconvert_exporter": "python",
   "pygments_lexer": "ipython3",
   "version": "3.9.1"
  },
  "vscode": {
   "interpreter": {
    "hash": "fa41079b932374bef133127ce3079850d66c1f721c13c79b03b0422816ac321d"
   }
  }
 },
 "nbformat": 4,
 "nbformat_minor": 5
}
