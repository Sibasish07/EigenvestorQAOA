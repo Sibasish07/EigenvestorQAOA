{
 "cells": [
  {
   "cell_type": "code",
   "execution_count": 1,
   "id": "031e4804",
   "metadata": {},
   "outputs": [],
   "source": [
    "import numpy as np"
   ]
  },
  {
   "cell_type": "code",
   "execution_count": 2,
   "id": "5828a2a3",
   "metadata": {},
   "outputs": [],
   "source": [
    "mu = np.array([4.01e-04,  6.10e-05,  9.16e-04, -6.19e-04])\n",
    "\n",
    "sigma = np.array([[9.980e-05, 4.250e-05, 3.720e-05, 4.030e-05],\n",
    "                  [4.250e-05, 1.005e-04, 4.110e-05, 1.520e-05],\n",
    "                  [3.720e-05, 4.110e-05, 1.813e-04, 1.790e-05],\n",
    "                  [4.030e-05, 1.520e-05, 1.790e-05, 2.531e-04]])"
   ]
  },
  {
   "cell_type": "code",
   "execution_count": 3,
   "id": "49a6d360",
   "metadata": {},
   "outputs": [],
   "source": [
    "lam = 0.9\n",
    "A = 0.03\n",
    "D = 2\n",
    "V=[-1,0,1]\n",
    "res_z=np.zeros(4)"
   ]
  },
  {
   "cell_type": "code",
   "execution_count": 4,
   "id": "bb9e9bed",
   "metadata": {},
   "outputs": [],
   "source": [
    "def brute_force_search():\n",
    "    Cost_min= 100\n",
    "    positions=[]\n",
    "    z = np.zeros(4)\n",
    "    for g in V:\n",
    "        for h in V:\n",
    "            for i in V:\n",
    "                for j in V:\n",
    "                    z=[g,h,i,j]\n",
    "                    S=np.sum(z)\n",
    "                    C = lam*np.dot(z,np.dot(sigma,z))+A*(D-sum(z))**2-(1-lam)*np.dot(mu,z)\n",
    "                    if(C<Cost_min):\n",
    "                        Cost_min = C\n",
    "                        positions=z\n",
    "    return positions,Cost_min"
   ]
  },
  {
   "cell_type": "code",
   "execution_count": 5,
   "id": "cbcb88f2",
   "metadata": {},
   "outputs": [
    {
     "data": {
      "text/plain": [
       "([1, 0, 1, 0], 0.00018825000000000008)"
      ]
     },
     "execution_count": 5,
     "metadata": {},
     "output_type": "execute_result"
    }
   ],
   "source": [
    "brute_force_search()         "
   ]
  },
  {
   "cell_type": "code",
   "execution_count": null,
   "id": "c8e5f165",
   "metadata": {},
   "outputs": [],
   "source": []
  },
  {
   "cell_type": "code",
   "execution_count": null,
   "id": "bb88bfa5",
   "metadata": {},
   "outputs": [],
   "source": []
  },
  {
   "cell_type": "code",
   "execution_count": null,
   "id": "cd76314e",
   "metadata": {},
   "outputs": [],
   "source": []
  },
  {
   "cell_type": "code",
   "execution_count": null,
   "id": "959aac58",
   "metadata": {},
   "outputs": [],
   "source": []
  },
  {
   "cell_type": "code",
   "execution_count": null,
   "id": "ff6dd0cf",
   "metadata": {},
   "outputs": [],
   "source": []
  },
  {
   "cell_type": "code",
   "execution_count": null,
   "id": "6890c4c5",
   "metadata": {},
   "outputs": [],
   "source": []
  },
  {
   "cell_type": "code",
   "execution_count": null,
   "id": "422f9141",
   "metadata": {},
   "outputs": [],
   "source": []
  },
  {
   "cell_type": "code",
   "execution_count": null,
   "id": "f8c8f02f",
   "metadata": {},
   "outputs": [],
   "source": []
  },
  {
   "cell_type": "code",
   "execution_count": null,
   "id": "2c2b33a3",
   "metadata": {},
   "outputs": [],
   "source": []
  }
 ],
 "metadata": {
  "kernelspec": {
   "display_name": "base",
   "language": "python",
   "name": "python3"
  },
  "language_info": {
   "codemirror_mode": {
    "name": "ipython",
    "version": 3
   },
   "file_extension": ".py",
   "mimetype": "text/x-python",
   "name": "python",
   "nbconvert_exporter": "python",
   "pygments_lexer": "ipython3",
   "version": "3.9.7"
  },
  "vscode": {
   "interpreter": {
    "hash": "fa41079b932374bef133127ce3079850d66c1f721c13c79b03b0422816ac321d"
   }
  }
 },
 "nbformat": 4,
 "nbformat_minor": 5
}
