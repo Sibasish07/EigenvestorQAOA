{
 "cells": [
  {
   "cell_type": "code",
   "execution_count": 19,
   "metadata": {},
   "outputs": [
    {
     "data": {
      "image/svg+xml": [
       "<svg xmlns=\"http://www.w3.org/2000/svg\" width=\"160.0\" height=\"400.0\"><line x1=\"30.0\" x2=\"130.0\" y1=\"25.0\" y2=\"25.0\" stroke=\"#1967d2\" stroke-width=\"1\" /><line x1=\"30.0\" x2=\"130.0\" y1=\"75.0\" y2=\"75.0\" stroke=\"#1967d2\" stroke-width=\"1\" /><line x1=\"30.0\" x2=\"130.0\" y1=\"125.0\" y2=\"125.0\" stroke=\"#1967d2\" stroke-width=\"1\" /><line x1=\"30.0\" x2=\"130.0\" y1=\"175.0\" y2=\"175.0\" stroke=\"#1967d2\" stroke-width=\"1\" /><line x1=\"30.0\" x2=\"130.0\" y1=\"225.0\" y2=\"225.0\" stroke=\"#1967d2\" stroke-width=\"1\" /><line x1=\"30.0\" x2=\"130.0\" y1=\"275.0\" y2=\"275.0\" stroke=\"#1967d2\" stroke-width=\"1\" /><line x1=\"30.0\" x2=\"130.0\" y1=\"325.0\" y2=\"325.0\" stroke=\"#1967d2\" stroke-width=\"1\" /><line x1=\"30.0\" x2=\"130.0\" y1=\"375.0\" y2=\"375.0\" stroke=\"#1967d2\" stroke-width=\"1\" /><rect x=\"10.0\" y=\"5.0\" width=\"40\" height=\"40\" stroke=\"black\" fill=\"white\" stroke-width=\"0\" /><text x=\"30.0\" y=\"25.0\" dominant-baseline=\"middle\" text-anchor=\"middle\" font-size=\"14px\" font-family=\"Arial\">0: </text><rect x=\"10.0\" y=\"55.0\" width=\"40\" height=\"40\" stroke=\"black\" fill=\"white\" stroke-width=\"0\" /><text x=\"30.0\" y=\"75.0\" dominant-baseline=\"middle\" text-anchor=\"middle\" font-size=\"14px\" font-family=\"Arial\">1: </text><rect x=\"10.0\" y=\"105.0\" width=\"40\" height=\"40\" stroke=\"black\" fill=\"white\" stroke-width=\"0\" /><text x=\"30.0\" y=\"125.0\" dominant-baseline=\"middle\" text-anchor=\"middle\" font-size=\"14px\" font-family=\"Arial\">2: </text><rect x=\"10.0\" y=\"155.0\" width=\"40\" height=\"40\" stroke=\"black\" fill=\"white\" stroke-width=\"0\" /><text x=\"30.0\" y=\"175.0\" dominant-baseline=\"middle\" text-anchor=\"middle\" font-size=\"14px\" font-family=\"Arial\">3: </text><rect x=\"10.0\" y=\"205.0\" width=\"40\" height=\"40\" stroke=\"black\" fill=\"white\" stroke-width=\"0\" /><text x=\"30.0\" y=\"225.0\" dominant-baseline=\"middle\" text-anchor=\"middle\" font-size=\"14px\" font-family=\"Arial\">4: </text><rect x=\"10.0\" y=\"255.0\" width=\"40\" height=\"40\" stroke=\"black\" fill=\"white\" stroke-width=\"0\" /><text x=\"30.0\" y=\"275.0\" dominant-baseline=\"middle\" text-anchor=\"middle\" font-size=\"14px\" font-family=\"Arial\">5: </text><rect x=\"10.0\" y=\"305.0\" width=\"40\" height=\"40\" stroke=\"black\" fill=\"white\" stroke-width=\"0\" /><text x=\"30.0\" y=\"325.0\" dominant-baseline=\"middle\" text-anchor=\"middle\" font-size=\"14px\" font-family=\"Arial\">6: </text><rect x=\"10.0\" y=\"355.0\" width=\"40\" height=\"40\" stroke=\"black\" fill=\"white\" stroke-width=\"0\" /><text x=\"30.0\" y=\"375.0\" dominant-baseline=\"middle\" text-anchor=\"middle\" font-size=\"14px\" font-family=\"Arial\">7: </text><rect x=\"70.0\" y=\"5.0\" width=\"40\" height=\"40\" stroke=\"black\" fill=\"white\" stroke-width=\"1\" /><text x=\"90.0\" y=\"25.0\" dominant-baseline=\"middle\" text-anchor=\"middle\" font-size=\"18px\" font-family=\"Arial\">M</text><rect x=\"70.0\" y=\"55.0\" width=\"40\" height=\"40\" stroke=\"black\" fill=\"white\" stroke-width=\"1\" /><text x=\"90.0\" y=\"75.0\" dominant-baseline=\"middle\" text-anchor=\"middle\" font-size=\"18px\" font-family=\"Arial\">M</text><rect x=\"70.0\" y=\"105.0\" width=\"40\" height=\"40\" stroke=\"black\" fill=\"white\" stroke-width=\"1\" /><text x=\"90.0\" y=\"125.0\" dominant-baseline=\"middle\" text-anchor=\"middle\" font-size=\"18px\" font-family=\"Arial\">M</text><rect x=\"70.0\" y=\"155.0\" width=\"40\" height=\"40\" stroke=\"black\" fill=\"white\" stroke-width=\"1\" /><text x=\"90.0\" y=\"175.0\" dominant-baseline=\"middle\" text-anchor=\"middle\" font-size=\"18px\" font-family=\"Arial\">M</text><rect x=\"70.0\" y=\"205.0\" width=\"40\" height=\"40\" stroke=\"black\" fill=\"white\" stroke-width=\"1\" /><text x=\"90.0\" y=\"225.0\" dominant-baseline=\"middle\" text-anchor=\"middle\" font-size=\"18px\" font-family=\"Arial\">M</text><rect x=\"70.0\" y=\"255.0\" width=\"40\" height=\"40\" stroke=\"black\" fill=\"white\" stroke-width=\"1\" /><text x=\"90.0\" y=\"275.0\" dominant-baseline=\"middle\" text-anchor=\"middle\" font-size=\"18px\" font-family=\"Arial\">M</text><rect x=\"70.0\" y=\"305.0\" width=\"40\" height=\"40\" stroke=\"black\" fill=\"white\" stroke-width=\"1\" /><text x=\"90.0\" y=\"325.0\" dominant-baseline=\"middle\" text-anchor=\"middle\" font-size=\"18px\" font-family=\"Arial\">M</text><rect x=\"70.0\" y=\"355.0\" width=\"40\" height=\"40\" stroke=\"black\" fill=\"white\" stroke-width=\"1\" /><text x=\"90.0\" y=\"375.0\" dominant-baseline=\"middle\" text-anchor=\"middle\" font-size=\"18px\" font-family=\"Arial\">M</text></svg>"
      ],
      "text/plain": [
       "<cirq.contrib.svg.svg.SVGCircuit at 0x7f9968a3ed60>"
      ]
     },
     "execution_count": 19,
     "metadata": {},
     "output_type": "execute_result"
    }
   ],
   "source": [
    "import sympy\n",
    "import numpy as np\n",
    "import cirq\n",
    "import itertools\n",
    "import math\n",
    "from scipy.optimize import minimize\n",
    "from tqdm import tqdm\n",
    "from cirq.contrib.svg import SVGCircuit\n",
    "import matplotlib.pyplot as plt\n",
    "import json\n",
    "from Parameters import *\n",
    "\n",
    "L = len(qubits)\n",
    "\n",
    "combinations=[]\n",
    "for i in range(L):\n",
    "    for j in range(L):\n",
    "        if i!=j:\n",
    "            combinations.append((i,j))\n",
    "numcombinations=len(combinations)\n",
    "\n",
    "def apply_hadamard():\n",
    "        #Applies a Hadamard gate to all quibits\n",
    "    hadamard=cirq.Circuit()\n",
    "    for i in range(L):\n",
    "        hadamard.append(cirq.H(qubits[i]))\n",
    "\n",
    "    return hadamard\n",
    "\n",
    "def apply_measurements():\n",
    "    measurements=cirq.Circuit()\n",
    "    for i in range(L):\n",
    "        measurements.append(cirq.measure(qubits[i]))\n",
    "\n",
    "    return measurements\n",
    "\n",
    "def apply_QAOA_mixing_operator(beta):\n",
    "    mixer=cirq.Circuit()\n",
    "    for i in range(L):\n",
    "        mixer.append(cirq.rx(2*beta).on(qubits[i]))\n",
    "    circuit = cirq.Circuit(mixer)\n",
    "\n",
    "    return circuit\n",
    "\n",
    "def apply_risk_return(gamma):\n",
    "    risk=cirq.Circuit()\n",
    "    returns=cirq.Circuit()\n",
    "\n",
    "    for i in range(numcombinations):\n",
    "        q1=combinations[i][0]\n",
    "        q2=combinations[i][1]\n",
    "        ii=math.floor(q1/2)\n",
    "        jj=math.floor(q2/2)\n",
    "        sign=-(-1)**((q1 % 2)+(q2 %2))\n",
    "        risk.append(cirq.ZZPowGate(exponent= 1/2*sign*gamma*lam*sigma[ii][jj]).on(qubits[q1],qubits[q2]))\n",
    "\n",
    "    for i in range(L):\n",
    "        returns.append(cirq.rz((-1)**int(i)*(1-lam)*gamma*mu[int(i/2)]).on(qubits[i]))\n",
    "\n",
    "    circuit = cirq.Circuit((risk,returns))\n",
    "\n",
    "    SVGCircuit(circuit)\n",
    "    return circuit\n",
    "\n",
    "def apply_soft_constraint(circuit,gamma):\n",
    "  constraint=circuit\n",
    "  for i in range(len(qubits)):\n",
    "      sign=(-1)**i\n",
    "      constraint.append(cirq.rz( sign *2 *gamma*A*D).on(qubits[i]))\n",
    "  for i in range(numcombinations):\n",
    "      q1=combinations[i][0]\n",
    "      q2=combinations[i][1]\n",
    "      sign=-(-1)**((q1 % 2)+(q2 %2))\n",
    "      constraint.append(cirq.ZZPowGate(exponent= 1/2*sign*A*gamma).on(qubits[q1],qubits[q2]))\n",
    "\n",
    "  return constraint\n",
    "\n",
    "\n",
    "def QAOA_soft():\n",
    "    gammas = sympy.symbols([\"\\u03B3_\" + str(k) for k in range(p)])\n",
    "    betas = sympy.symbols([\"\\u03B2_\" + str(k) for k in range(p)])\n",
    "    circuit = cirq.Circuit()\n",
    "    circuit = apply_hadamard()\n",
    "\n",
    "    for k in range(0,p):\n",
    "            beta = betas[k]\n",
    "            gamma = gammas[k]\n",
    "            circuit = apply_QAOA_mixing_operator(beta)\n",
    "            circuit = apply_risk_return(gamma)\n",
    "            circuit = apply_soft_constraint(circuit,gamma)\n",
    "            \n",
    "    \n",
    "    circuit = apply_measurements()\n",
    "\n",
    "    return circuit\n",
    "\n",
    "SVGCircuit(QAOA_soft())"
   ]
  }
 ],
 "metadata": {
  "kernelspec": {
   "display_name": "Python 3 (ipykernel)",
   "language": "python",
   "name": "python3"
  },
  "language_info": {
   "codemirror_mode": {
    "name": "ipython",
    "version": 3
   },
   "file_extension": ".py",
   "mimetype": "text/x-python",
   "name": "python",
   "nbconvert_exporter": "python",
   "pygments_lexer": "ipython3",
   "version": "3.9.7"
  },
  "vscode": {
   "interpreter": {
    "hash": "fa41079b932374bef133127ce3079850d66c1f721c13c79b03b0422816ac321d"
   }
  }
 },
 "nbformat": 4,
 "nbformat_minor": 4
}
